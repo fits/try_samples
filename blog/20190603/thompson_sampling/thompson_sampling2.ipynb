{
 "cells": [
  {
   "cell_type": "code",
   "execution_count": 1,
   "metadata": {},
   "outputs": [],
   "source": [
    "import numpy as np\n",
    "\n",
    "def thompson_sampling(acts, reward_func, n = 1000):\n",
    "    states = {a: (0, 0) for a in acts}\n",
    "    \n",
    "    def action():\n",
    "        bs = {a: np.random.beta(s[0] + 1, s[1] + 1) for a, s in states.items()}\n",
    "        return max(bs, key = bs.get)\n",
    "    \n",
    "    for _ in range(n):\n",
    "        a = action()\n",
    "        r = reward_func(a)\n",
    "        \n",
    "        states[a] = (states[a][0] + r, states[a][1] + 1 - r)\n",
    "    \n",
    "    return states"
   ]
  },
  {
   "cell_type": "code",
   "execution_count": 2,
   "metadata": {},
   "outputs": [],
   "source": [
    "def probability_reward_func(probs):\n",
    "    return lambda a: 1 if np.random.rand() < probs[a] else 0"
   ]
  },
  {
   "cell_type": "code",
   "execution_count": 3,
   "metadata": {},
   "outputs": [],
   "source": [
    "def summary(states):\n",
    "    for a, s in states.items():\n",
    "        print(f'{a}: win={s[0]}, lose={s[1]}, p={s[0] / sum(s)}')"
   ]
  },
  {
   "cell_type": "code",
   "execution_count": 4,
   "metadata": {},
   "outputs": [
    {
     "name": "stdout",
     "output_type": "stream",
     "text": [
      "a: win=1, lose=5, p=0.16666666666666666\n",
      "b: win=13, lose=19, p=0.40625\n",
      "c: win=679, lose=283, p=0.7058212058212058\n"
     ]
    }
   ],
   "source": [
    "probs1 = { 'a': 0.2, 'b': 0.5, 'c': 0.7 }\n",
    "\n",
    "summary( thompson_sampling(probs1.keys(), probability_reward_func(probs1)) )"
   ]
  },
  {
   "cell_type": "code",
   "execution_count": 5,
   "metadata": {},
   "outputs": [
    {
     "name": "stdout",
     "output_type": "stream",
     "text": [
      "a: win=0, lose=4, p=0.0\n",
      "b: win=3, lose=5, p=0.375\n",
      "c: win=111, lose=40, p=0.7350993377483444\n",
      "d: win=3, lose=6, p=0.3333333333333333\n",
      "e: win=668, lose=160, p=0.8067632850241546\n"
     ]
    }
   ],
   "source": [
    "probs2 = { 'a': 0.2, 'b': 0.5, 'c': 0.7, 'd': 0.1, 'e': 0.8 }\n",
    "\n",
    "summary( thompson_sampling(probs2.keys(), probability_reward_func(probs2)) )"
   ]
  }
 ],
 "metadata": {
  "kernelspec": {
   "display_name": "Python 3",
   "language": "python",
   "name": "python3"
  },
  "language_info": {
   "codemirror_mode": {
    "name": "ipython",
    "version": 3
   },
   "file_extension": ".py",
   "mimetype": "text/x-python",
   "name": "python",
   "nbconvert_exporter": "python",
   "pygments_lexer": "ipython3",
   "version": "3.7.3"
  }
 },
 "nbformat": 4,
 "nbformat_minor": 2
}
