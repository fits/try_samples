{
 "cells": [
  {
   "cell_type": "code",
   "execution_count": 1,
   "metadata": {},
   "outputs": [],
   "source": [
    "import numpy as np\n",
    "\n",
    "def thompson_sampling(arms, n = 1000):\n",
    "    states = [(0, 0) for _ in arms]\n",
    "    action = lambda: np.argmax([np.random.beta(s[0] + 1, s[1] + 1) for s in states])\n",
    "    \n",
    "    for _ in range(n):\n",
    "        a = action()\n",
    "        r = 1 if np.random.rand() < arms[a] else 0\n",
    "        \n",
    "        states[a] = (states[a][0] + r, states[a][1] + 1 - r)\n",
    "    \n",
    "    return states"
   ]
  },
  {
   "cell_type": "code",
   "execution_count": 2,
   "metadata": {},
   "outputs": [],
   "source": [
    "def summary(states):\n",
    "    for s in states:\n",
    "        print(f'win={s[0]}, lose={s[1]}, p={s[0] / sum(s)}')"
   ]
  },
  {
   "cell_type": "code",
   "execution_count": 3,
   "metadata": {},
   "outputs": [
    {
     "name": "stdout",
     "output_type": "stream",
     "text": [
      "win=3, lose=8, p=0.2727272727272727\n",
      "win=26, lose=24, p=0.52\n",
      "win=648, lose=291, p=0.6900958466453674\n"
     ]
    }
   ],
   "source": [
    "summary( thompson_sampling([0.2, 0.5, 0.7]) )"
   ]
  },
  {
   "cell_type": "code",
   "execution_count": 4,
   "metadata": {},
   "outputs": [
    {
     "name": "stdout",
     "output_type": "stream",
     "text": [
      "win=1, lose=5, p=0.16666666666666666\n",
      "win=6, lose=6, p=0.5\n",
      "win=54, lose=28, p=0.6585365853658537\n"
     ]
    }
   ],
   "source": [
    "summary( thompson_sampling([0.2, 0.5, 0.7], 100) )"
   ]
  },
  {
   "cell_type": "code",
   "execution_count": 5,
   "metadata": {},
   "outputs": [
    {
     "name": "stdout",
     "output_type": "stream",
     "text": [
      "win=2, lose=7, p=0.2222222222222222\n",
      "win=15, lose=11, p=0.5769230769230769\n",
      "win=70, lose=31, p=0.693069306930693\n",
      "win=686, lose=178, p=0.7939814814814815\n"
     ]
    }
   ],
   "source": [
    "summary( thompson_sampling([0.2, 0.5, 0.7, 0.8]) )"
   ]
  }
 ],
 "metadata": {
  "kernelspec": {
   "display_name": "Python 3",
   "language": "python",
   "name": "python3"
  },
  "language_info": {
   "codemirror_mode": {
    "name": "ipython",
    "version": 3
   },
   "file_extension": ".py",
   "mimetype": "text/x-python",
   "name": "python",
   "nbconvert_exporter": "python",
   "pygments_lexer": "ipython3",
   "version": "3.7.3"
  }
 },
 "nbformat": 4,
 "nbformat_minor": 2
}
