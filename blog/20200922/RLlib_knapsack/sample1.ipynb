{
 "cells": [
  {
   "cell_type": "code",
   "execution_count": null,
   "metadata": {},
   "outputs": [],
   "source": [
    "import gym\n",
    "from gym.spaces import Discrete, Box\n",
    "\n",
    "import numpy as np"
   ]
  },
  {
   "cell_type": "code",
   "execution_count": null,
   "metadata": {},
   "outputs": [],
   "source": [
    "def next_state(items, state, action):\n",
    "    idx = action // 2\n",
    "    act = action % 2\n",
    "\n",
    "    if idx < len(items):\n",
    "        state[idx] += (1 if act == 1 else -1)\n",
    "\n",
    "    return state\n",
    "\n",
    "def calc_reward(items, state, max_weight, burst_reward):\n",
    "    reward = 0\n",
    "    weight = 0\n",
    "    \n",
    "    for i in range(len(state)):\n",
    "        reward += items[i][0] * state[i]\n",
    "        weight += items[i][1] * state[i]\n",
    "    \n",
    "    if weight > max_weight or min(state) < 0:\n",
    "        reward = burst_reward\n",
    "    \n",
    "    return reward, weight"
   ]
  },
  {
   "cell_type": "markdown",
   "metadata": {},
   "source": [
    "# Env"
   ]
  },
  {
   "cell_type": "code",
   "execution_count": null,
   "metadata": {},
   "outputs": [],
   "source": [
    "class Knapsack(gym.Env):\n",
    "    def __init__(self, config):\n",
    "        self.items = config[\"items\"]\n",
    "        self.max_weight = config[\"max_weight\"]\n",
    "        self.max_count = config[\"max_count\"]\n",
    "        self.burst_reward = config[\"burst_reward\"]\n",
    "        \n",
    "        n = self.max_count\n",
    "        \n",
    "        self.action_space = Discrete(len(self.items) * 2 + 1)\n",
    "        self.observation_space = Box(low = -n, high = n, shape = (len(self.items), ))\n",
    "        \n",
    "        self.reset()\n",
    "\n",
    "    def reset(self):\n",
    "        self.count = 0\n",
    "        self.state = [0 for _ in self.items]\n",
    "        \n",
    "        return self.state\n",
    "\n",
    "    def step(self, action):\n",
    "        self.state = next_state(self.items, self.state, action)\n",
    "        \n",
    "        reward, _ = calc_reward(self.items, self.state, self.max_weight, self.burst_reward)\n",
    "        \n",
    "        self.count += 1\n",
    "        done = self.count >= self.max_count\n",
    "        \n",
    "        return self.state, reward, done, {}"
   ]
  },
  {
   "cell_type": "code",
   "execution_count": null,
   "metadata": {},
   "outputs": [],
   "source": [
    "items = [\n",
    "    [105, 10],\n",
    "    [74, 7],\n",
    "    [164, 15],\n",
    "    [32, 3],\n",
    "    [235, 22]\n",
    "]\n"
   ]
  },
  {
   "cell_type": "code",
   "execution_count": null,
   "metadata": {},
   "outputs": [],
   "source": [
    "config = {\n",
    "    \"env\": Knapsack, \n",
    "    \"env_config\": {\"items\": items, \"max_count\": 10, \"max_weight\": 35, \"burst_reward\": -100}\n",
    "}\n"
   ]
  },
  {
   "cell_type": "code",
   "execution_count": null,
   "metadata": {},
   "outputs": [],
   "source": [
    "import ray\n",
    "\n",
    "#ray.shutdown()\n",
    "ray.init()\n"
   ]
  },
  {
   "cell_type": "code",
   "execution_count": null,
   "metadata": {},
   "outputs": [],
   "source": [
    "ray.__version__"
   ]
  },
  {
   "cell_type": "markdown",
   "metadata": {},
   "source": [
    "# PPO"
   ]
  },
  {
   "cell_type": "code",
   "execution_count": null,
   "metadata": {},
   "outputs": [],
   "source": [
    "from ray.rllib.agents.ppo import PPOTrainer\n",
    "\n",
    "trainer = PPOTrainer(config = config)"
   ]
  },
  {
   "cell_type": "markdown",
   "metadata": {},
   "source": [
    "# DQN"
   ]
  },
  {
   "cell_type": "code",
   "execution_count": null,
   "metadata": {},
   "outputs": [],
   "source": [
    "from ray.rllib.agents.dqn import DQNTrainer\n",
    "\n",
    "trainer = DQNTrainer(config = config)"
   ]
  },
  {
   "cell_type": "markdown",
   "metadata": {},
   "source": [
    "# Train"
   ]
  },
  {
   "cell_type": "code",
   "execution_count": null,
   "metadata": {},
   "outputs": [],
   "source": [
    "r_max = []\n",
    "r_min = []\n",
    "r_mean = []\n"
   ]
  },
  {
   "cell_type": "code",
   "execution_count": null,
   "metadata": {},
   "outputs": [],
   "source": [
    "from ray.tune.logger import pretty_print\n",
    "\n",
    "for _ in range(10):\n",
    "    r = trainer.train()\n",
    "    print(pretty_print(r))\n",
    "    \n",
    "    r_max.append(r[\"episode_reward_max\"])\n",
    "    r_min.append(r[\"episode_reward_min\"])\n",
    "    r_mean.append(r[\"episode_reward_mean\"])\n"
   ]
  },
  {
   "cell_type": "code",
   "execution_count": null,
   "metadata": {},
   "outputs": [],
   "source": [
    "%matplotlib inline\n",
    "\n",
    "import matplotlib.pyplot as plt\n",
    "\n",
    "plt.plot(r_max, label = \"reward_max\", color = \"red\")\n",
    "plt.plot(r_min, label = \"reward_min\", color = \"green\")\n",
    "plt.plot(r_mean, label = \"reward_mean\", color = \"blue\")\n",
    "\n",
    "plt.legend(loc = \"upper left\")\n",
    "\n",
    "plt.ylim([-1000, 3700])\n",
    "plt.ylabel(\"reward\")\n",
    "\n",
    "plt.show()"
   ]
  },
  {
   "cell_type": "markdown",
   "metadata": {},
   "source": [
    "# Evaluate"
   ]
  },
  {
   "cell_type": "code",
   "execution_count": null,
   "metadata": {},
   "outputs": [],
   "source": [
    "s = [0 for _ in range(len(items))]\n",
    "\n",
    "for _ in range(config[\"env_config\"][\"max_count\"]):\n",
    "    a = trainer.compute_action(s)\n",
    "    \n",
    "    s = next_state(items, s, a)\n",
    "    \n",
    "    r, w = calc_reward(items, s, config[\"env_config\"][\"max_weight\"], config[\"env_config\"][\"burst_reward\"])\n",
    "    \n",
    "    print(f\"{a}, {s}, {r}, {w}\")\n",
    "    "
   ]
  },
  {
   "cell_type": "code",
   "execution_count": null,
   "metadata": {},
   "outputs": [],
   "source": [
    "import collections\n",
    "\n",
    "rs = []\n",
    "\n",
    "for _ in range(100):\n",
    "    \n",
    "    s = [0 for _ in range(len(items))]\n",
    "    r_tmp = config[\"env_config\"][\"burst_reward\"]\n",
    "\n",
    "    for _ in range(config[\"env_config\"][\"max_count\"]):\n",
    "        a = trainer.compute_action(s)\n",
    "        s = next_state(items, s, a)\n",
    "\n",
    "        r, w = calc_reward(items, s, config[\"env_config\"][\"max_weight\"], config[\"env_config\"][\"burst_reward\"])\n",
    "        \n",
    "        r_tmp = max(r, r_tmp)\n",
    "        \n",
    "        #print(f\"{a}, {s}, {r}, {w}\")\n",
    "\n",
    "    rs.append(r_tmp)\n",
    "\n",
    "collections.Counter(rs)"
   ]
  },
  {
   "cell_type": "markdown",
   "metadata": {},
   "source": [
    "# Save"
   ]
  },
  {
   "cell_type": "code",
   "execution_count": null,
   "metadata": {},
   "outputs": [],
   "source": [
    "checkpoint = trainer.save()\n",
    "checkpoint"
   ]
  },
  {
   "cell_type": "markdown",
   "metadata": {},
   "source": [
    "# Load"
   ]
  },
  {
   "cell_type": "code",
   "execution_count": null,
   "metadata": {},
   "outputs": [],
   "source": [
    "trainer.restore(checkpoint)\n"
   ]
  }
 ],
 "metadata": {
  "kernelspec": {
   "display_name": "Python 3",
   "language": "python",
   "name": "python3"
  },
  "language_info": {
   "codemirror_mode": {
    "name": "ipython",
    "version": 3
   },
   "file_extension": ".py",
   "mimetype": "text/x-python",
   "name": "python",
   "nbconvert_exporter": "python",
   "pygments_lexer": "ipython3",
   "version": "3.7.6"
  }
 },
 "nbformat": 4,
 "nbformat_minor": 4
}
