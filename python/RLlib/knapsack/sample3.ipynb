{
 "cells": [
  {
   "cell_type": "code",
   "execution_count": null,
   "metadata": {},
   "outputs": [],
   "source": [
    "import gym\n",
    "from gym.spaces import Discrete, Box\n",
    "\n",
    "import numpy as np"
   ]
  },
  {
   "cell_type": "code",
   "execution_count": null,
   "metadata": {},
   "outputs": [],
   "source": [
    "def calc_reward(items, state, max_weight, burst_reward):\n",
    "    reward = 0\n",
    "    weight = 0\n",
    "    \n",
    "    for i in range(len(state)):\n",
    "        reward += items[i][0] * state[i]\n",
    "        weight += items[i][1] * state[i]\n",
    "    \n",
    "    if weight > max_weight or min(state) < 0:\n",
    "        reward = burst_reward\n",
    "    \n",
    "    return reward, weight"
   ]
  },
  {
   "cell_type": "code",
   "execution_count": null,
   "metadata": {},
   "outputs": [],
   "source": [
    "def action_to_state(action, bit_num):\n",
    "    acts = np.reshape(action, (-1, bit_num))\n",
    "    \n",
    "    b_acts = np.pad(acts, ((0, 0), (8 - bit_num, 0)))\n",
    "    b_acts = np.vectorize(lambda x: 1 if x >= 0.5 else 0)(b_acts)\n",
    "    \n",
    "    return list(np.packbits(b_acts))"
   ]
  },
  {
   "cell_type": "markdown",
   "metadata": {},
   "source": [
    "# Env"
   ]
  },
  {
   "cell_type": "code",
   "execution_count": null,
   "metadata": {},
   "outputs": [],
   "source": [
    "class Knapsack(gym.Env):\n",
    "    def __init__(self, config):\n",
    "        self.items = config[\"items\"]\n",
    "        self.bit_num = min(config[\"bit_num\"], 8)\n",
    "        self.max_weight = config[\"max_weight\"]\n",
    "        self.burst_reward = config[\"burst_reward\"]\n",
    "        \n",
    "        h = 2 ** self.bit_num - 1\n",
    "        \n",
    "        self.action_space = Box(0, 1, shape = (len(self.items) * self.bit_num, ))\n",
    "        self.observation_space = Box(0, h, shape = (len(self.items), ))\n",
    "\n",
    "    def reset(self):\n",
    "        return [0 for _ in self.items]\n",
    "\n",
    "    def step(self, action):\n",
    "        state = action_to_state(action, self.bit_num)\n",
    "        \n",
    "        reward, _ = calc_reward(self.items, state, self.max_weight, self.burst_reward)\n",
    "        \n",
    "        return state, reward, True, {}"
   ]
  },
  {
   "cell_type": "code",
   "execution_count": null,
   "metadata": {},
   "outputs": [],
   "source": [
    "items = [\n",
    "    [120, 10],\n",
    "    [130, 12],\n",
    "    [80, 7],\n",
    "    [100, 9],\n",
    "    [250, 21],\n",
    "    [185, 16]\n",
    "]\n"
   ]
  },
  {
   "cell_type": "code",
   "execution_count": null,
   "metadata": {},
   "outputs": [],
   "source": [
    "config = {\n",
    "    \"env\": Knapsack, \n",
    "    \"env_config\": {\"items\": items, \"bit_num\": 3, \"max_weight\": 65, \"burst_reward\": -100}\n",
    "}\n"
   ]
  },
  {
   "cell_type": "code",
   "execution_count": null,
   "metadata": {},
   "outputs": [],
   "source": [
    "import ray\n",
    "\n",
    "#ray.shutdown()\n",
    "ray.init()"
   ]
  },
  {
   "cell_type": "code",
   "execution_count": null,
   "metadata": {},
   "outputs": [],
   "source": [
    "from ray.rllib.agents.ppo import PPOTrainer\n",
    "\n",
    "trainer = PPOTrainer(config = config)"
   ]
  },
  {
   "cell_type": "code",
   "execution_count": null,
   "metadata": {},
   "outputs": [],
   "source": [
    "from ray.rllib.agents.ddpg import DDPGTrainer\n",
    "\n",
    "trainer = DDPGTrainer(config = config)"
   ]
  },
  {
   "cell_type": "markdown",
   "metadata": {},
   "source": [
    "# Train"
   ]
  },
  {
   "cell_type": "code",
   "execution_count": null,
   "metadata": {},
   "outputs": [],
   "source": [
    "from ray.tune.logger import pretty_print\n",
    "\n",
    "for _ in range(50):\n",
    "    r = trainer.train()\n",
    "    print(pretty_print(r))"
   ]
  },
  {
   "cell_type": "markdown",
   "metadata": {},
   "source": [
    "\n",
    "# Evaluate"
   ]
  },
  {
   "cell_type": "code",
   "execution_count": null,
   "metadata": {},
   "outputs": [],
   "source": [
    "import collections\n",
    "\n",
    "rs = []\n",
    "\n",
    "for _ in range(100):\n",
    "    s = [0 for _ in range(len(items))]\n",
    "    a = trainer.compute_action(s)\n",
    "    \n",
    "    s = action_to_state(a, config[\"env_config\"][\"bit_num\"])\n",
    "    \n",
    "    r, w = calc_reward(items, s, config[\"env_config\"][\"max_weight\"], -1)\n",
    "    \n",
    "    rs.append(r)\n",
    "    \n",
    "    print(f\"{s}, {r}, {w}\")\n",
    "\n",
    "collections.Counter(rs)"
   ]
  },
  {
   "cell_type": "markdown",
   "metadata": {},
   "source": [
    "# Save"
   ]
  },
  {
   "cell_type": "code",
   "execution_count": null,
   "metadata": {},
   "outputs": [],
   "source": [
    "checkpoint = trainer.save()\n",
    "checkpoint"
   ]
  },
  {
   "cell_type": "markdown",
   "metadata": {},
   "source": [
    "# Load"
   ]
  },
  {
   "cell_type": "code",
   "execution_count": null,
   "metadata": {},
   "outputs": [],
   "source": [
    "trainer.restore(checkpoint)\n"
   ]
  }
 ],
 "metadata": {
  "kernelspec": {
   "display_name": "Python 3",
   "language": "python",
   "name": "python3"
  },
  "language_info": {
   "codemirror_mode": {
    "name": "ipython",
    "version": 3
   },
   "file_extension": ".py",
   "mimetype": "text/x-python",
   "name": "python",
   "nbconvert_exporter": "python",
   "pygments_lexer": "ipython3",
   "version": "3.7.6"
  }
 },
 "nbformat": 4,
 "nbformat_minor": 4
}
