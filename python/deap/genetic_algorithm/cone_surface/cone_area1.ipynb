{
 "cells": [
  {
   "cell_type": "code",
   "execution_count": null,
   "metadata": {},
   "outputs": [],
   "source": [
    "import math\n",
    "import random\n",
    "\n",
    "from deap import algorithms\n",
    "from deap import base\n",
    "from deap import creator\n",
    "from deap import tools"
   ]
  },
  {
   "cell_type": "code",
   "execution_count": null,
   "metadata": {},
   "outputs": [],
   "source": [
    "creator.create('MinMinFitness', base.Fitness, weights=(-1.0, -1.0))\n",
    "creator.create('Individual', list, fitness = creator.MinMinFitness)"
   ]
  },
  {
   "cell_type": "code",
   "execution_count": null,
   "metadata": {},
   "outputs": [],
   "source": [
    "MAX_SIZES = [10, 20]\n",
    "\n",
    "population = lambda n: [creator.Individual([random.uniform(0, s) for s in MAX_SIZES]) for _ in range(n)]"
   ]
  },
  {
   "cell_type": "code",
   "execution_count": null,
   "metadata": {},
   "outputs": [],
   "source": [
    "population(5)"
   ]
  },
  {
   "cell_type": "code",
   "execution_count": null,
   "metadata": {},
   "outputs": [],
   "source": [
    "def eval_value(ind):\n",
    "    b = math.pi * (ind[0] ** 2)\n",
    "\n",
    "    v = b * ind[1] / 3\n",
    "    s = math.pi * ind[0] * math.sqrt(ind[0] ** 2 + ind[1] ** 2)\n",
    "    \n",
    "    t = b + s\n",
    "    \n",
    "    return (s, t) if v > 200 else (10000, 10000)\n",
    "\n",
    "def create_toolbox(indpb = 0.05, eta = 20.0):\n",
    "    toolbox = base.Toolbox()\n",
    "\n",
    "    toolbox.register('evaluate', eval_value)\n",
    "    toolbox.register('mate', tools.cxSimulatedBinaryBounded, low = 0, up = MAX_SIZES, eta = eta)\n",
    "    toolbox.register('mutate', tools.mutPolynomialBounded, low = 0, up = MAX_SIZES, eta = eta, indpb = indpb)\n",
    "    toolbox.register('select', tools.selNSGA2)\n",
    "    \n",
    "    return toolbox"
   ]
  },
  {
   "cell_type": "code",
   "execution_count": null,
   "metadata": {},
   "outputs": [],
   "source": [
    "def evolve(p, ngen = 10, cxpb = 0.5, mutpb = 0.2, indpb = 0.05, eta = 20.0, child_rate = 1.0):\n",
    "    toolbox = create_toolbox(indpb, eta)\n",
    "    \n",
    "    mu = len(p)\n",
    "    child_num = int(len(p) * child_rate)\n",
    "    \n",
    "    res, _ = algorithms.eaMuPlusLambda(p, toolbox, mu, lambda_ = child_num, ngen = ngen, cxpb = cxpb, mutpb = mutpb)\n",
    "    \n",
    "    return res"
   ]
  },
  {
   "cell_type": "code",
   "execution_count": null,
   "metadata": {},
   "outputs": [],
   "source": [
    "r1 = tools.selBest(evolve(population(100), ngen = 30), 1)[0]\n",
    "\n",
    "print(f'(r, h) = {r1}, (s, t) = {eval_value(r1)}')"
   ]
  },
  {
   "cell_type": "code",
   "execution_count": null,
   "metadata": {},
   "outputs": [],
   "source": [
    "r2 = tools.selBest(evolve(population(500), ngen = 30), 1)[0]\n",
    "\n",
    "print(f'(r, h) = {r2}, (s, t) = {eval_value(r2)}')"
   ]
  }
 ],
 "metadata": {
  "kernelspec": {
   "display_name": "Python 3",
   "language": "python",
   "name": "python3"
  },
  "language_info": {
   "codemirror_mode": {
    "name": "ipython",
    "version": 3
   },
   "file_extension": ".py",
   "mimetype": "text/x-python",
   "name": "python",
   "nbconvert_exporter": "python",
   "pygments_lexer": "ipython3",
   "version": "3.7.3"
  }
 },
 "nbformat": 4,
 "nbformat_minor": 2
}
