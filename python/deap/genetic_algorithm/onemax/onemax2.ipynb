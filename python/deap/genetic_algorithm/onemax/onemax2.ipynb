{
 "cells": [
  {
   "cell_type": "code",
   "execution_count": null,
   "metadata": {},
   "outputs": [],
   "source": [
    "import random\n",
    "\n",
    "from deap import algorithms\n",
    "from deap import base\n",
    "from deap import creator\n",
    "from deap import tools"
   ]
  },
  {
   "cell_type": "code",
   "execution_count": null,
   "metadata": {},
   "outputs": [],
   "source": [
    "creator.create('OneMaxFitness', base.Fitness, weights = (1.0,))\n",
    "creator.create('Individual', list, fitness = creator.OneMaxFitness)"
   ]
  },
  {
   "cell_type": "code",
   "execution_count": null,
   "metadata": {},
   "outputs": [],
   "source": [
    "population = lambda n, s: [creator.Individual([random.randint(0, 1) for _ in range(s)]) for _ in range(n)]"
   ]
  },
  {
   "cell_type": "code",
   "execution_count": null,
   "metadata": {},
   "outputs": [],
   "source": [
    "def create_toolbox(tournsize = 5, indpb = 0.05):\n",
    "    toolbox = base.Toolbox()\n",
    "\n",
    "    toolbox.register('evaluate', lambda x: (sum(x),))\n",
    "    toolbox.register('mate', tools.cxTwoPoint)\n",
    "    toolbox.register('mutate', tools.mutFlipBit, indpb = indpb)\n",
    "    toolbox.register('select', tools.selTournament, tournsize = tournsize)\n",
    "    \n",
    "    return toolbox"
   ]
  },
  {
   "cell_type": "code",
   "execution_count": null,
   "metadata": {},
   "outputs": [],
   "source": [
    "def evolve(p, ngen = 10, tournsize = 5, cxpb = 0.5, mutpb = 0.2, indpb = 0.05):\n",
    "    toolbox = create_toolbox(tournsize, indpb)\n",
    "    \n",
    "    res, _ = algorithms.eaSimple(p, toolbox, ngen = ngen, cxpb = cxpb, mutpb = mutpb)\n",
    "    \n",
    "    return res"
   ]
  },
  {
   "cell_type": "code",
   "execution_count": null,
   "metadata": {},
   "outputs": [],
   "source": [
    "population(30, 10)"
   ]
  },
  {
   "cell_type": "code",
   "execution_count": null,
   "metadata": {},
   "outputs": [],
   "source": [
    "r1, _ = algorithms.eaSimple(population(20, 10), create_toolbox(), ngen = 10, cxpb = 0.5, mutpb = 0.2)\n",
    "\n",
    "tools.selBest(r1, 3)"
   ]
  },
  {
   "cell_type": "code",
   "execution_count": null,
   "metadata": {},
   "outputs": [],
   "source": [
    "r2, _ = algorithms.eaSimple(population(200, 100), create_toolbox(), ngen = 50, cxpb = 0.5, mutpb = 0.2)\n",
    "\n",
    "print( tools.selBest(r2, 3) )"
   ]
  },
  {
   "cell_type": "code",
   "execution_count": null,
   "metadata": {},
   "outputs": [],
   "source": [
    "print( tools.selBest(evolve(population(300, 100), ngen = 100), 3) )"
   ]
  }
 ],
 "metadata": {
  "kernelspec": {
   "display_name": "Python 3",
   "language": "python",
   "name": "python3"
  },
  "language_info": {
   "codemirror_mode": {
    "name": "ipython",
    "version": 3
   },
   "file_extension": ".py",
   "mimetype": "text/x-python",
   "name": "python",
   "nbconvert_exporter": "python",
   "pygments_lexer": "ipython3",
   "version": "3.7.3"
  }
 },
 "nbformat": 4,
 "nbformat_minor": 2
}
