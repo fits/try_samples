{
 "cells": [
  {
   "cell_type": "code",
   "execution_count": null,
   "metadata": {},
   "outputs": [],
   "source": [
    "import random\n",
    "\n",
    "from deap import tools"
   ]
  },
  {
   "cell_type": "code",
   "execution_count": null,
   "metadata": {},
   "outputs": [],
   "source": [
    "class Individual(list):\n",
    "    @property\n",
    "    def fitness(self):\n",
    "        return sum(self)"
   ]
  },
  {
   "cell_type": "code",
   "execution_count": null,
   "metadata": {},
   "outputs": [],
   "source": [
    "population = lambda n, s: [Individual([random.randint(0, 1) for _ in range(s)]) for _ in range(n)]"
   ]
  },
  {
   "cell_type": "code",
   "execution_count": null,
   "metadata": {},
   "outputs": [],
   "source": [
    "import copy\n",
    "\n",
    "def evolve(p, ngen = 10, tournsize = 5, cxpb = 0.5, mutpb = 0.2, indpb = 0.05):\n",
    "    p = copy.deepcopy(p)\n",
    "    s = len(p[0])\n",
    "    \n",
    "    for i in range(ngen):\n",
    "        if max([x.fitness for x in p]) == s:\n",
    "            print(f'end : ngen={i}')\n",
    "            break\n",
    "        \n",
    "        q = [copy.copy(x) for x in tools.selTournament(p, len(p), tournsize = tournsize)]\n",
    "    \n",
    "        # crossover\n",
    "        for c1, c2 in zip(q[::2], q[1::2]):\n",
    "            if random.random() < cxpb:\n",
    "                tools.cxTwoPoint(c1, c2)\n",
    "\n",
    "        # mutation\n",
    "        for m in q:\n",
    "            if random.random() < mutpb:\n",
    "                tools.mutFlipBit(m, indpb = indpb)\n",
    "        \n",
    "        p = q\n",
    "\n",
    "    return p"
   ]
  },
  {
   "cell_type": "code",
   "execution_count": null,
   "metadata": {},
   "outputs": [],
   "source": [
    "tools.selBest(evolve(population(20, 10)), 1)"
   ]
  },
  {
   "cell_type": "code",
   "execution_count": null,
   "metadata": {},
   "outputs": [],
   "source": [
    "print( tools.selBest(evolve(population(300, 100), ngen = 100), 3) )"
   ]
  },
  {
   "cell_type": "code",
   "execution_count": null,
   "metadata": {},
   "outputs": [],
   "source": [
    "print( tools.selBest(evolve(population(300, 100), ngen = 100, indpb = 0.1), 3) )"
   ]
  }
 ],
 "metadata": {
  "kernelspec": {
   "display_name": "Python 3",
   "language": "python",
   "name": "python3"
  },
  "language_info": {
   "codemirror_mode": {
    "name": "ipython",
    "version": 3
   },
   "file_extension": ".py",
   "mimetype": "text/x-python",
   "name": "python",
   "nbconvert_exporter": "python",
   "pygments_lexer": "ipython3",
   "version": "3.7.3"
  }
 },
 "nbformat": 4,
 "nbformat_minor": 2
}
