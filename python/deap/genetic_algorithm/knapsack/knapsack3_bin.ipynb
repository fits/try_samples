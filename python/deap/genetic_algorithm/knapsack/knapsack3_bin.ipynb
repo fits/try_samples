{
 "cells": [
  {
   "cell_type": "markdown",
   "metadata": {},
   "source": [
    "# Genetic Algorithm"
   ]
  },
  {
   "cell_type": "code",
   "execution_count": null,
   "metadata": {},
   "outputs": [],
   "source": [
    "import random\n",
    "import numpy as np\n",
    "\n",
    "from deap import base\n",
    "from deap import creator\n",
    "from deap import tools\n",
    "from deap import algorithms"
   ]
  },
  {
   "cell_type": "code",
   "execution_count": null,
   "metadata": {},
   "outputs": [],
   "source": [
    "creator.create('MaxMinFitness', base.Fitness, weights = (1.0, -1.0))\n",
    "creator.create('Individual', list, fitness = creator.MaxMinFitness)"
   ]
  },
  {
   "cell_type": "code",
   "execution_count": null,
   "metadata": {},
   "outputs": [],
   "source": [
    "def population(n, items_len, b_size = 2):\n",
    "    return [creator.Individual(list(np.random.randint(2, size = items_len * b_size))) for _ in range(n)]"
   ]
  },
  {
   "cell_type": "code",
   "execution_count": null,
   "metadata": {},
   "outputs": [],
   "source": [
    "def to_intarray(ind, b_size):\n",
    "    x = np.around(np.array(ind).reshape((-1, b_size)))\n",
    "    return x.dot(1 << np.arange(x.shape[-1])[::-1])\n",
    "\n",
    "def eval_value(ind, items, b_size, max_weight, penalty):\n",
    "    x = to_intarray(ind, b_size)\n",
    "    \n",
    "    v = sum(x * items[:, 0])\n",
    "    w = sum(x * items[:, 1])\n",
    "    \n",
    "    return (v, w) if w <= max_weight else (0, penalty)\n",
    "\n",
    "def create_toolbox(items, b_size = 2, max_weight = 65, penalty = 1000, indpb = 0.05, eta = 20.0):\n",
    "    toolbox = base.Toolbox()\n",
    "\n",
    "    toolbox.register('evaluate', eval_value, items = items, b_size = b_size, max_weight = max_weight, penalty = penalty)\n",
    "    toolbox.register('mate', tools.cxSimulatedBinaryBounded, low = 0, up = 1, eta = eta)\n",
    "    toolbox.register('mutate', tools.mutPolynomialBounded, low = 0, up = 1, eta = eta, indpb = indpb)\n",
    "    toolbox.register('select', tools.selNSGA2)\n",
    "    \n",
    "    return toolbox"
   ]
  },
  {
   "cell_type": "code",
   "execution_count": null,
   "metadata": {},
   "outputs": [],
   "source": [
    "def evolve(n, items, ngen = 10, b_size = 2, max_weight = 65, penalty = 1000, cxpb = 0.5, mutpb = 0.2, indpb = 0.05, eta = 20.0, child_rate = 1.0):\n",
    "    toolbox = create_toolbox(items, b_size, max_weight, penalty, indpb, eta)\n",
    "    \n",
    "    p = population(n, len(items), b_size)\n",
    "    \n",
    "    mu = len(p)\n",
    "    child_num = int(len(p) * child_rate)\n",
    "    \n",
    "    res, _ = algorithms.eaMuPlusLambda(p, toolbox, mu, lambda_ = child_num, ngen = ngen, cxpb = cxpb, mutpb = mutpb)\n",
    "    \n",
    "    return res"
   ]
  },
  {
   "cell_type": "code",
   "execution_count": null,
   "metadata": {},
   "outputs": [],
   "source": [
    "def ga(n, items, ngen = 10, b_size = 2, max_weight = 65, penalty = 1000, cxpb = 0.5, mutpb = 0.2, indpb = 0.05, eta = 20.0, child_rate = 1.0):\n",
    "    rs = evolve(n, items, ngen, b_size, max_weight, penalty, cxpb, mutpb, indpb, eta, child_rate)\n",
    "    \n",
    "    return to_intarray(tools.selBest(rs, 1)[0], b_size)"
   ]
  },
  {
   "cell_type": "code",
   "execution_count": null,
   "metadata": {},
   "outputs": [],
   "source": [
    "items1 = np.array([\n",
    "    [120, 10],\n",
    "    [130, 12],\n",
    "    [80, 7],\n",
    "    [100, 9],\n",
    "    [250, 21],\n",
    "    [185, 16]\n",
    "])"
   ]
  },
  {
   "cell_type": "code",
   "execution_count": null,
   "metadata": {},
   "outputs": [],
   "source": [
    "ga(100, items1, ngen = 50)"
   ]
  }
 ],
 "metadata": {
  "kernelspec": {
   "display_name": "Python 3",
   "language": "python",
   "name": "python3"
  },
  "language_info": {
   "codemirror_mode": {
    "name": "ipython",
    "version": 3
   },
   "file_extension": ".py",
   "mimetype": "text/x-python",
   "name": "python",
   "nbconvert_exporter": "python",
   "pygments_lexer": "ipython3",
   "version": "3.7.3"
  }
 },
 "nbformat": 4,
 "nbformat_minor": 2
}
