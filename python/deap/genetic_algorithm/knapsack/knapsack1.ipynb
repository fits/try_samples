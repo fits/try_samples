{
 "cells": [
  {
   "cell_type": "code",
   "execution_count": null,
   "metadata": {},
   "outputs": [],
   "source": [
    "import random\n",
    "\n",
    "from deap import algorithms\n",
    "from deap import base\n",
    "from deap import creator\n",
    "from deap import tools"
   ]
  },
  {
   "cell_type": "code",
   "execution_count": null,
   "metadata": {},
   "outputs": [],
   "source": [
    "items = [\n",
    "    (120, 10),\n",
    "    (130, 12),\n",
    "    (80, 7),\n",
    "    (100, 9),\n",
    "    (250, 21),\n",
    "    (185, 16)\n",
    "]"
   ]
  },
  {
   "cell_type": "code",
   "execution_count": null,
   "metadata": {},
   "outputs": [],
   "source": [
    "creator.create('MaxMinFitness', base.Fitness, weights = (1.0, -1.0))\n",
    "creator.create('Individual', list, fitness = creator.MaxMinFitness)"
   ]
  },
  {
   "cell_type": "code",
   "execution_count": null,
   "metadata": {},
   "outputs": [],
   "source": [
    "def population(n, max_qty = 5):\n",
    "    return [creator.Individual([random.randint(0, max_qty) for _ in items]) for _ in range(n)]"
   ]
  },
  {
   "cell_type": "code",
   "execution_count": null,
   "metadata": {},
   "outputs": [],
   "source": [
    "population(10, 5)"
   ]
  },
  {
   "cell_type": "code",
   "execution_count": null,
   "metadata": {},
   "outputs": [],
   "source": [
    "def eval_value(ind):\n",
    "    p, w = map(sum, zip(* map(lambda t: (t[0] * t[1][0], t[0] * t[1][1]), zip(ind, items))))\n",
    "    \n",
    "    return (p, w) if w <= 65 else (0, 1000)\n",
    "\n",
    "def create_toolbox(tournsize = 5, indpb = 0.05, max_qty = 5):\n",
    "    toolbox = base.Toolbox()\n",
    "\n",
    "    toolbox.register('evaluate', eval_value)\n",
    "    toolbox.register('mate', tools.cxTwoPoint)\n",
    "    toolbox.register('mutate', tools.mutUniformInt, low = 0, up = max_qty, indpb = indpb)\n",
    "    toolbox.register('select', tools.selTournament, tournsize = tournsize)\n",
    "    \n",
    "    return toolbox"
   ]
  },
  {
   "cell_type": "code",
   "execution_count": null,
   "metadata": {},
   "outputs": [],
   "source": [
    "def evolve(p, ngen = 10, tournsize = 5, cxpb = 0.5, mutpb = 0.2, indpb = 0.05, max_qty = 5):\n",
    "    toolbox = create_toolbox(tournsize, indpb, max_qty)\n",
    "    \n",
    "    res, _ = algorithms.eaSimple(p, toolbox, ngen = ngen, cxpb = cxpb, mutpb = mutpb)\n",
    "    \n",
    "    return res"
   ]
  },
  {
   "cell_type": "code",
   "execution_count": null,
   "metadata": {},
   "outputs": [],
   "source": [
    "r1 = tools.selBest(evolve(population(1000, max_qty = 4), ngen = 50, max_qty = 4), 1)[0]\n",
    "\n",
    "print(eval_value(r1))\n",
    "\n",
    "r1"
   ]
  },
  {
   "cell_type": "code",
   "execution_count": null,
   "metadata": {},
   "outputs": [],
   "source": [
    "r2 = tools.selBest(evolve(population(100, max_qty = 3), ngen = 50, max_qty = 3), 1)[0]\n",
    "\n",
    "print(eval_value(r2))\n",
    "\n",
    "r2"
   ]
  }
 ],
 "metadata": {
  "kernelspec": {
   "display_name": "Python 3",
   "language": "python",
   "name": "python3"
  },
  "language_info": {
   "codemirror_mode": {
    "name": "ipython",
    "version": 3
   },
   "file_extension": ".py",
   "mimetype": "text/x-python",
   "name": "python",
   "nbconvert_exporter": "python",
   "pygments_lexer": "ipython3",
   "version": "3.7.3"
  }
 },
 "nbformat": 4,
 "nbformat_minor": 2
}
