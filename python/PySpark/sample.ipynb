{
 "cells": [
  {
   "cell_type": "code",
   "execution_count": null,
   "id": "ba2b868c-3a85-411d-9834-ed4867acfd6c",
   "metadata": {},
   "outputs": [],
   "source": [
    "from pyspark.sql import SparkSession\n",
    "\n",
    "spark = SparkSession.builder.getOrCreate()"
   ]
  },
  {
   "cell_type": "code",
   "execution_count": null,
   "id": "5f28a5e4-55fb-4d41-8696-e5ceb2f2f3f5",
   "metadata": {},
   "outputs": [],
   "source": [
    "df = spark.createDataFrame([\n",
    "    (1, 'data-1', 79),\n",
    "    (2, 'data-2', 25),\n",
    "    (3, 'data-3', 13)\n",
    "], schema='id long, name string, value int')\n",
    "\n",
    "df"
   ]
  },
  {
   "cell_type": "code",
   "execution_count": null,
   "id": "608e7c76-6858-4f5a-8db2-745db17d1bbc",
   "metadata": {},
   "outputs": [],
   "source": [
    "df.show()"
   ]
  },
  {
   "cell_type": "code",
   "execution_count": null,
   "id": "8b07856f-bd7b-421c-a8cc-e7cd662a2003",
   "metadata": {},
   "outputs": [],
   "source": [
    "df.select('value').describe().show()"
   ]
  }
 ],
 "metadata": {
  "kernelspec": {
   "display_name": "Python 3 (ipykernel)",
   "language": "python",
   "name": "python3"
  },
  "language_info": {
   "codemirror_mode": {
    "name": "ipython",
    "version": 3
   },
   "file_extension": ".py",
   "mimetype": "text/x-python",
   "name": "python",
   "nbconvert_exporter": "python",
   "pygments_lexer": "ipython3",
   "version": "3.10.5"
  }
 },
 "nbformat": 4,
 "nbformat_minor": 5
}
