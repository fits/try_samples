{
 "cells": [
  {
   "cell_type": "markdown",
   "id": "c5697e62",
   "metadata": {},
   "source": [
    "# docker run\n",
    "\n",
    "```\n",
    "docker run -it -p 8888:8888 -v ${PWD}:/app jupyter/pyspark-notebook\n",
    "```"
   ]
  },
  {
   "cell_type": "code",
   "execution_count": null,
   "id": "309e69dd-83b1-46e6-929d-048675f5ab16",
   "metadata": {},
   "outputs": [],
   "source": [
    "from pyspark.sql import SparkSession"
   ]
  },
  {
   "cell_type": "code",
   "execution_count": null,
   "id": "3be02c0e",
   "metadata": {},
   "outputs": [],
   "source": [
    "url = 'jdbc:mysql://host.docker.internal'\n",
    "user = 'user'\n",
    "password = 'password'\n",
    "table = 'tasks'"
   ]
  },
  {
   "cell_type": "code",
   "execution_count": null,
   "id": "ef9a9ff9-b95c-498b-a782-fac481a71b27",
   "metadata": {},
   "outputs": [],
   "source": [
    "spark = SparkSession.builder \\\n",
    "    .config('spark.driver.extraClassPath', '/app/jars/mysql-connector-java-8.0.29.jar') \\\n",
    "    .getOrCreate()\n"
   ]
  },
  {
   "cell_type": "code",
   "execution_count": null,
   "id": "5dd0df48-c67e-4fb7-b389-0d50d9875fdc",
   "metadata": {},
   "outputs": [],
   "source": [
    "df = spark.read.format('jdbc') \\\n",
    "    .option('url', url) \\\n",
    "    .option('driver', 'com.mysql.cj.jdbc.Driver') \\\n",
    "    .option('user', user) \\\n",
    "    .option('password', password) \\\n",
    "    .option('dbtable', table) \\\n",
    "    .load()\n",
    "\n",
    "df"
   ]
  },
  {
   "cell_type": "code",
   "execution_count": null,
   "id": "7ee2e972-c93a-42f1-ae6f-750b8bd0ab8c",
   "metadata": {},
   "outputs": [],
   "source": [
    "df.show()"
   ]
  }
 ],
 "metadata": {
  "kernelspec": {
   "display_name": "Python 3 (ipykernel)",
   "language": "python",
   "name": "python3"
  },
  "language_info": {
   "codemirror_mode": {
    "name": "ipython",
    "version": 3
   },
   "file_extension": ".py",
   "mimetype": "text/x-python",
   "name": "python",
   "nbconvert_exporter": "python",
   "pygments_lexer": "ipython3",
   "version": "3.10.5"
  }
 },
 "nbformat": 4,
 "nbformat_minor": 5
}
