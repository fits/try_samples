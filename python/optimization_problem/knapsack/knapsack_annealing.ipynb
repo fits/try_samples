{
 "cells": [
  {
   "cell_type": "markdown",
   "metadata": {},
   "source": [
    "# Simulated Annealing"
   ]
  },
  {
   "cell_type": "code",
   "execution_count": null,
   "metadata": {},
   "outputs": [],
   "source": [
    "import random\n",
    "import math\n",
    "\n",
    "import numpy as np"
   ]
  },
  {
   "cell_type": "code",
   "execution_count": null,
   "metadata": {},
   "outputs": [],
   "source": [
    "population = lambda items, s: np.array([random.randint(0, s) for _ in items])"
   ]
  },
  {
   "cell_type": "code",
   "execution_count": null,
   "metadata": {},
   "outputs": [],
   "source": [
    "def evaluate(items, ind, weights = [-1, 1], max_weight = 65):\n",
    "    p = sum(ind * items[:, 0])\n",
    "    w = sum(ind * items[:, 1])\n",
    "\n",
    "    r = [p, w] if w <= max_weight and w > 0 else [0, 1000]\n",
    "\n",
    "    return (sum(np.array(weights) * r), r)    "
   ]
  },
  {
   "cell_type": "code",
   "execution_count": null,
   "metadata": {},
   "outputs": [],
   "source": [
    "def annealing(items, s = 3, t = 10000.0, cool_rate = 0.995, min_t = 0.1, step = 1, max_weight = 65):\n",
    "    p = population(items, s)\n",
    "    \n",
    "    while t > min_t:\n",
    "        idx = random.randint(0, len(p) - 1)\n",
    "        \n",
    "        q = p.copy()\n",
    "        \n",
    "        q[idx] = max(0, min(s, q[idx] + random.randint(-step, step)))\n",
    "\n",
    "        pe, _ = evaluate(items, p, max_weight = max_weight)\n",
    "        qe, _ = evaluate(items, q, max_weight = max_weight)\n",
    "\n",
    "        prob = math.exp(-abs(qe - pe) / t)\n",
    "\n",
    "        if qe < pe or random.random() < prob:\n",
    "            p = q\n",
    "        \n",
    "        t *= cool_rate\n",
    "\n",
    "    return p"
   ]
  },
  {
   "cell_type": "code",
   "execution_count": null,
   "metadata": {},
   "outputs": [],
   "source": [
    "def annealing2(items, s = 3, t = 10000.0, cool_rate = 0.995, min_t = 0.1, max_weight = 65):\n",
    "    p = np.zeros(len(items))\n",
    "    \n",
    "    exclude = lambda xs, x: xs[xs != x] \n",
    "    \n",
    "    while t > min_t:\n",
    "        idx = random.randint(0, len(p) - 1)\n",
    "        \n",
    "        q = p.copy()\n",
    "\n",
    "        q[idx] = abs(q[idx] - random.randint(1, s))\n",
    "\n",
    "        if q[idx] > p[idx]:\n",
    "            for i in np.append(exclude(np.random.permutation(len(items)), idx), idx):\n",
    "                w_over = sum(q * items[:, 1]) - max_weight\n",
    "                    \n",
    "                if w_over <= 0:\n",
    "                    break\n",
    "                else:\n",
    "                    n = math.ceil(w_over / items[i, 1])\n",
    "                    q[i] -= min(q[i], n)\n",
    "\n",
    "        pe = sum(p * items[:, 0])\n",
    "        qe = sum(q * items[:, 0])\n",
    "\n",
    "        prob = math.exp(-abs(qe - pe) / t)\n",
    "\n",
    "        if qe > pe or random.random() < prob:\n",
    "            p = q\n",
    "\n",
    "        t *= cool_rate\n",
    "\n",
    "    return p"
   ]
  },
  {
   "cell_type": "code",
   "execution_count": null,
   "metadata": {},
   "outputs": [],
   "source": [
    "def annealing3(items, n = 5, s = 3, t = 10000.0, cool_rate = 0.995, min_t = 0.1, max_weight = 65):\n",
    "    p = np.zeros(len(items))\n",
    "    \n",
    "    exclude = lambda xs, x: xs[xs != x]\n",
    "    \n",
    "    while t > min_t:\n",
    "        for _ in range(n):\n",
    "            idx = random.randint(0, len(p) - 1)\n",
    "        \n",
    "            q = p.copy()\n",
    "            \n",
    "            q[idx] = abs(q[idx] - random.randint(1, s))\n",
    "\n",
    "            random_ids = exclude(np.random.permutation(len(items)), idx)\n",
    "\n",
    "            if q[idx] >= p[idx]:\n",
    "                for i in np.append(random_ids, idx):\n",
    "                    w_over = sum(q * items[:, 1]) - max_weight\n",
    "                    \n",
    "                    if w_over <= 0:\n",
    "                        break\n",
    "                    elif q[i] > 0:\n",
    "                        n = math.ceil(w_over / items[i, 1])\n",
    "                        q[i] -= min(q[i], n)\n",
    "            else:\n",
    "                for i in random_ids:\n",
    "                    if q[i] < s and items[i, 1] <= max_weight - sum(q * items[:, 1]):\n",
    "                        q[i] += 1\n",
    "                        break\n",
    "\n",
    "            pe = sum(p * items[:, 0])\n",
    "            qe = sum(q * items[:, 0])\n",
    "\n",
    "            prob = math.exp(-abs(qe - pe) / t)\n",
    "\n",
    "            if qe > pe or random.random() < prob:\n",
    "                p = q\n",
    "        \n",
    "        t *= cool_rate\n",
    "\n",
    "    return p"
   ]
  },
  {
   "cell_type": "code",
   "execution_count": null,
   "metadata": {},
   "outputs": [],
   "source": [
    "items1 = np.array([\n",
    "    [120, 10],\n",
    "    [130, 12],\n",
    "    [80, 7],\n",
    "    [100, 9],\n",
    "    [250, 21],\n",
    "    [185, 16]\n",
    "])"
   ]
  },
  {
   "cell_type": "code",
   "execution_count": null,
   "metadata": {},
   "outputs": [],
   "source": [
    "r = annealing(items1, 2)\n",
    "print(f'{r}, {evaluate(items1, r)}')"
   ]
  },
  {
   "cell_type": "code",
   "execution_count": null,
   "metadata": {},
   "outputs": [],
   "source": [
    "r2 = annealing2(items1)\n",
    "print(f'{r2}, {evaluate(items1, r2)}')"
   ]
  },
  {
   "cell_type": "code",
   "execution_count": null,
   "metadata": {},
   "outputs": [],
   "source": [
    "r3 = annealing3(items1)\n",
    "print(f'{r3}, {evaluate(items1, r3)}')"
   ]
  },
  {
   "cell_type": "code",
   "execution_count": null,
   "metadata": {},
   "outputs": [],
   "source": [
    "import collections\n",
    "\n",
    "collections.Counter([tuple(annealing(items1)) for _ in range(100)])"
   ]
  },
  {
   "cell_type": "code",
   "execution_count": null,
   "metadata": {},
   "outputs": [],
   "source": [
    "collections.Counter([tuple(annealing2(items1)) for _ in range(100)])"
   ]
  },
  {
   "cell_type": "code",
   "execution_count": null,
   "metadata": {},
   "outputs": [],
   "source": [
    "collections.Counter([tuple(annealing3(items1)) for _ in range(100)])"
   ]
  }
 ],
 "metadata": {
  "kernelspec": {
   "display_name": "Python 3",
   "language": "python",
   "name": "python3"
  },
  "language_info": {
   "codemirror_mode": {
    "name": "ipython",
    "version": 3
   },
   "file_extension": ".py",
   "mimetype": "text/x-python",
   "name": "python",
   "nbconvert_exporter": "python",
   "pygments_lexer": "ipython3",
   "version": "3.7.3"
  }
 },
 "nbformat": 4,
 "nbformat_minor": 2
}
