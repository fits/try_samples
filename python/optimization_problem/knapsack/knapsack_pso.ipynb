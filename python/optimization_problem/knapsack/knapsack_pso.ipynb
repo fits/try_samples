{
 "cells": [
  {
   "cell_type": "code",
   "execution_count": null,
   "metadata": {},
   "outputs": [],
   "source": [
    "import random\n",
    "import math\n",
    "\n",
    "import numpy as np"
   ]
  },
  {
   "cell_type": "code",
   "execution_count": null,
   "metadata": {},
   "outputs": [],
   "source": [
    "class Particle:\n",
    "    def __init__(self, items, vmax, smin, smax, eval_func, max_weight = 65):\n",
    "        self.items = items\n",
    "        self.vmax = vmax\n",
    "        self.smin = smin\n",
    "        self.smax = smax\n",
    "        \n",
    "        self.values = np.array([random.uniform(0, vmax) for _ in items])\n",
    "        self.speeds = np.array([random.uniform(smin, smax) for _ in items])\n",
    "\n",
    "        self.best = self.values\n",
    "        \n",
    "        self.eval_func = eval_func\n",
    "        \n",
    "        self.max_weight = max_weight\n",
    "\n",
    "    @property\n",
    "    def fitness(self):\n",
    "        return self.evaluate(self.values)\n",
    "\n",
    "    @property\n",
    "    def fitness_best(self):\n",
    "        return self.evaluate(self.best)\n",
    "    \n",
    "    def evaluate(self, values):\n",
    "        rv = values.round()\n",
    "\n",
    "        p = sum(rv * self.items[:, 0])\n",
    "        w = sum(rv * self.items[:, 1])\n",
    "        \n",
    "        params = [p, w] if w <= self.max_weight else [0, self.max_weight * 10]\n",
    "        \n",
    "        return (self.eval_func(params), params)\n",
    "    \n",
    "    def update(self, g_best, w, ap, ag):\n",
    "        speed_range = lambda v: min(self.smax, max(self.smin, v))\n",
    "        value_range = lambda v: min(self.vmax, max(0, v))\n",
    "\n",
    "        new_speeds = self.speeds * w + ((self.best - self.values) * random.uniform(0, ap)) + ((g_best - self.values) * random.uniform(0, ag))\n",
    "\n",
    "        self.speeds = np.array([speed_range(s) for s in new_speeds])\n",
    "\n",
    "        new_values = self.values + self.speeds\n",
    "        self.values = np.array([value_range(v) for v in new_values])\n",
    "        \n",
    "        if self.evaluate(self.values)[0] > self.evaluate(self.best)[0]:\n",
    "            self.best = self.values"
   ]
  },
  {
   "cell_type": "code",
   "execution_count": null,
   "metadata": {},
   "outputs": [],
   "source": [
    "def population(items, n, vmax, smin, smax):\n",
    "    eval_func = lambda x: sum(np.array(x) * [1, -1])\n",
    "    \n",
    "    return [Particle(items, vmax, smin, smax, eval_func) for _ in range(n)]"
   ]
  },
  {
   "cell_type": "code",
   "execution_count": null,
   "metadata": {},
   "outputs": [],
   "source": [
    "def optimize(items, n, qty, speed, w = 0.8, ap = 0.7, ag = 0.7, ngen = 20):\n",
    "    ps = population(items, n, qty, -speed, speed)\n",
    "    \n",
    "    best_particle = lambda: ps[np.argmax([p.fitness_best[0] for p in ps])]\n",
    "    \n",
    "    for i in range(ngen):\n",
    "        g_best = best_particle().best\n",
    "\n",
    "        for p in ps:\n",
    "            p.update(g_best, w, ap, ag)\n",
    "\n",
    "    return best_particle()"
   ]
  },
  {
   "cell_type": "code",
   "execution_count": null,
   "metadata": {},
   "outputs": [],
   "source": [
    "def print_particle(p):\n",
    "    print(f'values:{p.values.round()}, fitness:{p.fitness}, speeds:{p.speeds}')\n",
    "    print(f'best:{p.best.round()}, best_fitness:{p.fitness_best}')   "
   ]
  },
  {
   "cell_type": "code",
   "execution_count": null,
   "metadata": {},
   "outputs": [],
   "source": [
    "items1 = np.array([\n",
    "    [120, 10],\n",
    "    [130, 12],\n",
    "    [80, 7],\n",
    "    [100, 9],\n",
    "    [250, 21],\n",
    "    [185, 16]\n",
    "])"
   ]
  },
  {
   "cell_type": "code",
   "execution_count": null,
   "metadata": {},
   "outputs": [],
   "source": [
    "print_particle( optimize(items1, 300, 3, 3) )"
   ]
  },
  {
   "cell_type": "code",
   "execution_count": null,
   "metadata": {},
   "outputs": [],
   "source": [
    "print_particle( optimize(items1, 100, 4, 4) )"
   ]
  },
  {
   "cell_type": "code",
   "execution_count": null,
   "metadata": {},
   "outputs": [],
   "source": [
    "import collections\n",
    "\n",
    "collections.Counter([tuple(optimize(items1, 100, 3, 3).best.round()) for _ in range(50)])"
   ]
  }
 ],
 "metadata": {
  "kernelspec": {
   "display_name": "Python 3",
   "language": "python",
   "name": "python3"
  },
  "language_info": {
   "codemirror_mode": {
    "name": "ipython",
    "version": 3
   },
   "file_extension": ".py",
   "mimetype": "text/x-python",
   "name": "python",
   "nbconvert_exporter": "python",
   "pygments_lexer": "ipython3",
   "version": "3.7.3"
  }
 },
 "nbformat": 4,
 "nbformat_minor": 2
}
