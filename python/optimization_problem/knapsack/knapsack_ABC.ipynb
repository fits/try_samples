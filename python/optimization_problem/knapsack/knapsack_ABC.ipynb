{
 "cells": [
  {
   "cell_type": "markdown",
   "metadata": {},
   "source": [
    "# Artificial Bee Colony Algorithm"
   ]
  },
  {
   "cell_type": "code",
   "execution_count": null,
   "metadata": {},
   "outputs": [],
   "source": [
    "import random\n",
    "import math\n",
    "\n",
    "import numpy as np"
   ]
  },
  {
   "cell_type": "code",
   "execution_count": null,
   "metadata": {},
   "outputs": [],
   "source": [
    "#population = lambda items, n, s: np.array([[random.randint(0, s) * 1.0 for _ in items] for _ in range(n)])\n",
    "population = lambda items, n, s: np.array([[random.uniform(0, s) for _ in items] for _ in range(n)])"
   ]
  },
  {
   "cell_type": "code",
   "execution_count": null,
   "metadata": {},
   "outputs": [],
   "source": [
    "def evaluate(items, ind, max_weight = 65):\n",
    "    w = sum(ind.round() * items[:, 1])\n",
    "\n",
    "    return sum(ind.round() * items[:, 0]) if w <= max_weight else 0"
   ]
  },
  {
   "cell_type": "code",
   "execution_count": null,
   "metadata": {},
   "outputs": [],
   "source": [
    "def random_other(n, i):\n",
    "    ns = np.array(range(n))\n",
    "    return np.random.choice(ns[ns != i])\n",
    "\n",
    "def abc(items, n, s, ngen = 50, tc_max = 5, max_weight = 65):\n",
    "    p = population(items, n, s)\n",
    "    tc = np.zeros(n)\n",
    "    \n",
    "    fitness = lambda ind: evaluate(items, ind, max_weight)\n",
    "    current_best = lambda: p[np.argmax([fitness(ind) for ind in p])]\n",
    "    \n",
    "    def update(i):\n",
    "        k = random.randint(0, len(items) - 1)\n",
    "        m = random_other(n, i)\n",
    "        \n",
    "        qi = p[i].copy()\n",
    "        qi[k] = max(0, qi[k] + np.random.uniform(-1, 1) * (qi[k] - p[m, k]))\n",
    "        \n",
    "        tc[i] += 1\n",
    "        \n",
    "        if fitness(qi) > fitness(p[i]):\n",
    "            p[i] = qi\n",
    "            tc[i] = 0\n",
    "\n",
    "    xbest = current_best()\n",
    "            \n",
    "    for _ in range(ngen):\n",
    "        for i in range(n):\n",
    "            update(i)\n",
    "\n",
    "        for _ in range(n):\n",
    "            fs = np.array([fitness(ind) + 1 for ind in p])\n",
    "            prob = fs / sum(fs)\n",
    "            \n",
    "            i = np.random.choice(n, p = prob)\n",
    "            update(i)\n",
    "       \n",
    "        for i in np.where(tc >= tc_max)[0]:\n",
    "            p[i] = population(items, 1, s)[0]\n",
    "            tc[i] = 0\n",
    "\n",
    "        g_best = current_best()\n",
    "        \n",
    "        if fitness(g_best) > fitness(xbest):\n",
    "            xbest = g_best\n",
    "                \n",
    "    return xbest, p"
   ]
  },
  {
   "cell_type": "code",
   "execution_count": null,
   "metadata": {},
   "outputs": [],
   "source": [
    "items1 = np.array([\n",
    "    [120, 10],\n",
    "    [130, 12],\n",
    "    [80, 7],\n",
    "    [100, 9],\n",
    "    [250, 21],\n",
    "    [185, 16]\n",
    "])"
   ]
  },
  {
   "cell_type": "code",
   "execution_count": null,
   "metadata": {},
   "outputs": [],
   "source": [
    "b, _ = abc(items1, 100, 2, ngen = 200)\n",
    "\n",
    "print(f'{b.round()}, {evaluate(items1, b)}')"
   ]
  },
  {
   "cell_type": "code",
   "execution_count": null,
   "metadata": {},
   "outputs": [],
   "source": [
    "import collections\n",
    "\n",
    "collections.Counter([tuple(abc(items1, 50, 2, ngen = 100)[0].round()) for _ in range(50)])"
   ]
  }
 ],
 "metadata": {
  "kernelspec": {
   "display_name": "Python 3",
   "language": "python",
   "name": "python3"
  },
  "language_info": {
   "codemirror_mode": {
    "name": "ipython",
    "version": 3
   },
   "file_extension": ".py",
   "mimetype": "text/x-python",
   "name": "python",
   "nbconvert_exporter": "python",
   "pygments_lexer": "ipython3",
   "version": "3.7.3"
  }
 },
 "nbformat": 4,
 "nbformat_minor": 2
}
