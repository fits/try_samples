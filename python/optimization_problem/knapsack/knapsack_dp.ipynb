{
 "cells": [
  {
   "cell_type": "markdown",
   "metadata": {},
   "source": [
    "# 動的計画法 (Dynamic Programming)"
   ]
  },
  {
   "cell_type": "code",
   "execution_count": null,
   "metadata": {},
   "outputs": [],
   "source": [
    "import numpy as np\n",
    "import functools"
   ]
  },
  {
   "cell_type": "markdown",
   "metadata": {},
   "source": [
    "# 0-1"
   ]
  },
  {
   "cell_type": "code",
   "execution_count": null,
   "metadata": {},
   "outputs": [],
   "source": [
    "def dp_1(items, max_weight = 65):\n",
    "    state = np.zeros(max_weight)\n",
    "    v = np.array([state])\n",
    "\n",
    "    for item in items:\n",
    "        next_state = state.copy()\n",
    "\n",
    "        idxs = np.append(np.where(next_state > 0)[0], -1)\n",
    "\n",
    "        for i in idxs:\n",
    "            j = i + item[1]\n",
    "\n",
    "            if j < len(next_state):\n",
    "                value = (state[i] if i >= 0 else 0) + item[0]\n",
    "                next_state[j] = max(next_state[j], value)\n",
    "\n",
    "        v = np.vstack([v, next_state])\n",
    "        state = next_state\n",
    "\n",
    "    r = []\n",
    "\n",
    "    idx = np.argmax(v[-1])\n",
    "    r_v = v[::-1]\n",
    "\n",
    "    for item, a, b in zip(items[::-1], r_v[:-1], r_v[1:]):\n",
    "        j = idx - item[1]\n",
    "\n",
    "        if a[idx] - item[0] == b[j]:\n",
    "            r = [1] + r\n",
    "            idx = j\n",
    "        else:\n",
    "            r = [0] + r\n",
    "\n",
    "    return r, (np.max(v[-1]), np.argmax(v[-1]) + 1)\n",
    "    # return result, (sum(items[:, 0] * result), sum(items[:, 1] * result))"
   ]
  },
  {
   "cell_type": "code",
   "execution_count": null,
   "metadata": {},
   "outputs": [],
   "source": [
    "def dp2_1(items, max_weight = 65):\n",
    "    v = np.zeros((len(items) + 1, max_weight + 1))\n",
    "\n",
    "    for i in range(1, len(v)):\n",
    "        for w in range(len(v[i])):\n",
    "            wi = items[i - 1, 1]\n",
    "            value = v[i - 1, w - wi] + items[i - 1, 0] if wi <= w else 0\n",
    "\n",
    "            v[i, w] = max(v[i - 1, w], value)\n",
    "    \n",
    "    ans = (np.max(v[-1]), np.argmax(v[-1]))\n",
    "    \n",
    "    r = np.zeros(len(items), dtype = int)\n",
    "    p = np.array(ans)\n",
    "    \n",
    "    for i, vi, item in zip(range(len(items))[::-1], v[::-1][1:], items[::-1]):\n",
    "        next_p = p - item\n",
    "        \n",
    "        if next_p[0] == vi[int(next_p[1])]:\n",
    "            r[i] = 1\n",
    "            p = next_p\n",
    "    \n",
    "    return list(r), ans\n"
   ]
  },
  {
   "cell_type": "markdown",
   "metadata": {},
   "source": [
    "# N"
   ]
  },
  {
   "cell_type": "code",
   "execution_count": null,
   "metadata": {},
   "outputs": [],
   "source": [
    "def dp_n(items, max_weight = 65):\n",
    "    state = np.zeros(max_weight)\n",
    "    v = np.array([state])\n",
    "\n",
    "    for item in items:\n",
    "        next_state = state.copy()\n",
    "\n",
    "        idxs = np.append(np.where(next_state > 0)[0], -1)\n",
    "\n",
    "        for i in idxs:\n",
    "            for j in range(i + item[1], max_weight, item[1]):\n",
    "                value = (state[i] if i >= 0 else 0) + item[0] * (j - i) / item[1]\n",
    "                next_state[j] = max(next_state[j], value)\n",
    "\n",
    "        v = np.vstack([v, next_state])\n",
    "        state = next_state\n",
    "\n",
    "    r = []\n",
    "\n",
    "    idx = np.argmax(v[-1])\n",
    "    r_v = v[::-1]\n",
    "    \n",
    "    for item, a, b in zip(items[::-1], r_v[:-1], r_v[1:]):\n",
    "        new_idx = idx\n",
    "\n",
    "        for j in range(idx - item[1], -2, -item[1]):\n",
    "            n = (idx - j ) / item[1]\n",
    "\n",
    "            if a[idx] - (item[0] * n) == b[j]:\n",
    "                r = [n] + r\n",
    "                new_idx = j\n",
    "                break\n",
    "\n",
    "        if new_idx == idx:\n",
    "            r = [0] + r\n",
    "        \n",
    "        idx = new_idx\n",
    "\n",
    "    return r, (np.max(v[-1]), np.argmax(v[-1]) + 1)\n",
    "    # return result, (sum(items[:, 0] * result), sum(items[:, 1] * result))"
   ]
  },
  {
   "cell_type": "code",
   "execution_count": null,
   "metadata": {},
   "outputs": [],
   "source": [
    "items1 = np.array([\n",
    "    [120, 10],\n",
    "    [130, 12],\n",
    "    [80, 7],\n",
    "    [100, 9],\n",
    "    [250, 21],\n",
    "    [185, 16]\n",
    "])"
   ]
  },
  {
   "cell_type": "code",
   "execution_count": null,
   "metadata": {},
   "outputs": [],
   "source": [
    "dp_1(items1)"
   ]
  },
  {
   "cell_type": "code",
   "execution_count": null,
   "metadata": {},
   "outputs": [],
   "source": [
    "dp2_1(items1)"
   ]
  },
  {
   "cell_type": "code",
   "execution_count": null,
   "metadata": {},
   "outputs": [],
   "source": [
    "dp_n(items1)"
   ]
  },
  {
   "cell_type": "code",
   "execution_count": null,
   "metadata": {},
   "outputs": [],
   "source": [
    "dp_n(items1, max_weight = 59)"
   ]
  },
  {
   "cell_type": "code",
   "execution_count": null,
   "metadata": {},
   "outputs": [],
   "source": [
    "items2 = np.array([\n",
    "    [120, 10],\n",
    "    [160, 12],\n",
    "    [80, 7],\n",
    "    [120, 9],\n",
    "    [250, 27],\n",
    "    [185, 16]\n",
    "])"
   ]
  },
  {
   "cell_type": "code",
   "execution_count": null,
   "metadata": {},
   "outputs": [],
   "source": [
    "dp_1(items2, max_weight = 62)"
   ]
  },
  {
   "cell_type": "code",
   "execution_count": null,
   "metadata": {},
   "outputs": [],
   "source": [
    "dp2_1(items2, max_weight = 62)"
   ]
  },
  {
   "cell_type": "code",
   "execution_count": null,
   "metadata": {},
   "outputs": [],
   "source": [
    "dp_n(items2, max_weight = 62)"
   ]
  }
 ],
 "metadata": {
  "kernelspec": {
   "display_name": "Python 3",
   "language": "python",
   "name": "python3"
  },
  "language_info": {
   "codemirror_mode": {
    "name": "ipython",
    "version": 3
   },
   "file_extension": ".py",
   "mimetype": "text/x-python",
   "name": "python",
   "nbconvert_exporter": "python",
   "pygments_lexer": "ipython3",
   "version": "3.7.3"
  }
 },
 "nbformat": 4,
 "nbformat_minor": 2
}
