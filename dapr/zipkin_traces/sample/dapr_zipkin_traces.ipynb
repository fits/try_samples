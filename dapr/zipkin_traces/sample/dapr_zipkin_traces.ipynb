{
 "cells": [
  {
   "cell_type": "code",
   "execution_count": null,
   "id": "4887d2af-f7f5-4c2b-9eb0-1c029e3c5d8a",
   "metadata": {},
   "outputs": [],
   "source": [
    "import pandas as pd"
   ]
  },
  {
   "cell_type": "code",
   "execution_count": null,
   "id": "aaa9f9de-6247-47a7-aaa4-16112a1a2912",
   "metadata": {},
   "outputs": [],
   "source": [
    "df = pd.read_json('traces.json', lines=True)\n",
    "df"
   ]
  },
  {
   "cell_type": "code",
   "execution_count": null,
   "id": "283d62d1-ee6a-4e43-927e-3fc8ce0f8933",
   "metadata": {},
   "outputs": [],
   "source": [
    "df.groupby('name')['duration'].describe()"
   ]
  },
  {
   "cell_type": "code",
   "execution_count": null,
   "id": "bdf4d21a-4c2d-4e4b-9dba-054baac0d07f",
   "metadata": {},
   "outputs": [],
   "source": [
    "df.groupby('tags.dapr.api')['duration'].describe()"
   ]
  },
  {
   "cell_type": "code",
   "execution_count": null,
   "id": "12d29cf9-79b5-4088-9358-a290b9a702c7",
   "metadata": {},
   "outputs": [],
   "source": [
    "df.groupby('traceId')['duration'].describe()"
   ]
  },
  {
   "cell_type": "code",
   "execution_count": null,
   "id": "61530802-5739-49fe-95d3-aa101f49d457",
   "metadata": {},
   "outputs": [],
   "source": [
    "df.sort_values(by='duration', ascending=False).head(10)"
   ]
  }
 ],
 "metadata": {
  "kernelspec": {
   "display_name": "Python 3 (ipykernel)",
   "language": "python",
   "name": "python3"
  },
  "language_info": {
   "codemirror_mode": {
    "name": "ipython",
    "version": 3
   },
   "file_extension": ".py",
   "mimetype": "text/x-python",
   "name": "python",
   "nbconvert_exporter": "python",
   "pygments_lexer": "ipython3",
   "version": "3.9.12"
  }
 },
 "nbformat": 4,
 "nbformat_minor": 5
}
