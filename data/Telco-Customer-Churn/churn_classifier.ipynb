{
 "cells": [
  {
   "cell_type": "code",
   "execution_count": null,
   "metadata": {},
   "outputs": [],
   "source": [
    "import pandas as pd\n",
    "import numpy as np\n",
    "\n",
    "df = pd.read_csv('data/WA_Fn-UseC_-Telco-Customer-Churn.csv')\n",
    "\n",
    "df"
   ]
  },
  {
   "cell_type": "code",
   "execution_count": null,
   "metadata": {},
   "outputs": [],
   "source": [
    "df2 = df.copy()\n",
    "\n",
    "yesno_columns = ['Partner', 'Dependents', 'PhoneService',\n",
    "                 'MultipleLines', 'OnlineSecurity', 'OnlineBackup',\n",
    "                 'DeviceProtection', 'TechSupport', 'StreamingTV',\n",
    "                 'StreamingMovies', 'PaperlessBilling', 'Churn']\n",
    "\n",
    "for c in yesno_columns:\n",
    "    df2[c] = df2[c].apply(lambda x: 1 if x == 'Yes' else 0)\n",
    "\n",
    "df2['TotalCharges'] = df2['TotalCharges'].replace({' ': 0}).apply(float)\n",
    "\n",
    "df2"
   ]
  },
  {
   "cell_type": "code",
   "execution_count": null,
   "metadata": {},
   "outputs": [],
   "source": [
    "data = pd.get_dummies(df2[df2.columns.difference(['Churn', 'customerID'])])\n",
    "label = df2['Churn']"
   ]
  },
  {
   "cell_type": "code",
   "execution_count": null,
   "metadata": {},
   "outputs": [],
   "source": [
    "data"
   ]
  },
  {
   "cell_type": "code",
   "execution_count": null,
   "metadata": {},
   "outputs": [],
   "source": [
    "label"
   ]
  },
  {
   "cell_type": "code",
   "execution_count": null,
   "metadata": {},
   "outputs": [],
   "source": [
    "def fit_and_predict(model, n = 6000):\n",
    "    m = model.fit(data[:n], label[:n])\n",
    "    \n",
    "    res = m.predict(data[n:])\n",
    "    \n",
    "    return (acc(res, label[n:]), res)\n",
    "\n",
    "def acc(actual, expected):\n",
    "    return np.count_nonzero(actual == expected) / len(actual)"
   ]
  },
  {
   "cell_type": "code",
   "execution_count": null,
   "metadata": {},
   "outputs": [],
   "source": [
    "from sklearn.ensemble import GradientBoostingClassifier\n",
    "\n",
    "fit_and_predict(GradientBoostingClassifier())"
   ]
  },
  {
   "cell_type": "code",
   "execution_count": null,
   "metadata": {},
   "outputs": [],
   "source": [
    "from lightgbm import LGBMClassifier\n",
    "\n",
    "fit_and_predict(LGBMClassifier())"
   ]
  },
  {
   "cell_type": "code",
   "execution_count": null,
   "metadata": {},
   "outputs": [],
   "source": [
    "from xgboost import XGBClassifier\n",
    "\n",
    "fit_and_predict(XGBClassifier())"
   ]
  }
 ],
 "metadata": {
  "kernelspec": {
   "display_name": "Python 3",
   "language": "python",
   "name": "python3"
  },
  "language_info": {
   "codemirror_mode": {
    "name": "ipython",
    "version": 3
   },
   "file_extension": ".py",
   "mimetype": "text/x-python",
   "name": "python",
   "nbconvert_exporter": "python",
   "pygments_lexer": "ipython3",
   "version": "3.7.3"
  }
 },
 "nbformat": 4,
 "nbformat_minor": 2
}
