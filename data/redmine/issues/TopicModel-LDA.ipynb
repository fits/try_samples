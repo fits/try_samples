{
 "cells": [
  {
   "cell_type": "code",
   "execution_count": null,
   "id": "5f06fab3-6a9f-4c1b-97ca-78f54e21e846",
   "metadata": {},
   "outputs": [],
   "source": [
    "import sentencepiece as spm\n",
    "import pandas as pd\n",
    "\n",
    "from gensim.models import ldamodel\n",
    "from gensim.corpora import Dictionary"
   ]
  },
  {
   "cell_type": "code",
   "execution_count": null,
   "id": "13f37b11-4ce9-41b0-9e10-d7d15bb47aac",
   "metadata": {},
   "outputs": [],
   "source": [
    "input_file = 'issues.txt'\n",
    "model_prefix = 'm1'\n",
    "vocab_size = 1000\n",
    "num_topics = 5"
   ]
  },
  {
   "cell_type": "code",
   "execution_count": null,
   "id": "36bbd52d-5bf3-4099-aee4-f3e3b3b46dbd",
   "metadata": {},
   "outputs": [],
   "source": [
    "spm.SentencePieceTrainer.train(input=input_file, model_prefix=model_prefix, vocab_size=vocab_size, model_type='bpe')\n",
    "\n",
    "s = spm.SentencePieceProcessor(model_file=f'{model_prefix}.model')"
   ]
  },
  {
   "cell_type": "code",
   "execution_count": null,
   "id": "26a748a1-7bd7-43e4-a518-f7525a097fbb",
   "metadata": {},
   "outputs": [],
   "source": [
    "df = pd.read_json(input_file, lines=True)"
   ]
  },
  {
   "cell_type": "code",
   "execution_count": null,
   "id": "35833041-554e-4b9d-b0db-12beaded3285",
   "metadata": {},
   "outputs": [],
   "source": [
    "df2 = df[df['tracker.name'].isin(['機能', 'バグ'])]"
   ]
  },
  {
   "cell_type": "code",
   "execution_count": null,
   "id": "d78a3619-267e-4222-9712-83787a4158ae",
   "metadata": {},
   "outputs": [],
   "source": [
    "dt = [s.encode(r['subject'], out_type=str) for i, r in df2.iterrows()]"
   ]
  },
  {
   "cell_type": "code",
   "execution_count": null,
   "id": "1e978058-007b-4cd6-91a3-b0adbfc3f95b",
   "metadata": {},
   "outputs": [],
   "source": [
    "def convert(s):\n",
    "    return s.replace('▁', '')\n",
    "\n",
    "def check(s):\n",
    "    return s != '' and len(s) > 1 and not str.isdigit(s)\n",
    "\n",
    "dt2 = [list(filter(check, [convert(t) for t in ts])) for ts in dt]"
   ]
  },
  {
   "cell_type": "code",
   "execution_count": null,
   "id": "b24d3f60-0985-4900-8a97-1e5c745b13d1",
   "metadata": {},
   "outputs": [],
   "source": [
    "dic = Dictionary(dt2)\n",
    "corpus = [dic.doc2bow(t) for t in dt2]\n",
    "\n",
    "lda = ldamodel.LdaModel(corpus=corpus, id2word=dic, num_topics=num_topics, random_state=1)"
   ]
  },
  {
   "cell_type": "code",
   "execution_count": null,
   "id": "3b96d272-c7e5-45b2-9fa2-20bfa8430e4b",
   "metadata": {},
   "outputs": [],
   "source": [
    "rs = [', '.join([dic[j] for (j, _) in lda.get_topic_terms(i)]) for i in range(lda.num_topics)]\n",
    "\n",
    "for r in rs:\n",
    "    print(r)"
   ]
  },
  {
   "cell_type": "code",
   "execution_count": null,
   "id": "8be6bd90-5509-4984-8c33-eac80c36cf4e",
   "metadata": {},
   "outputs": [],
   "source": [
    "import pyLDAvis\n",
    "import pyLDAvis.gensim_models as gensim_models"
   ]
  },
  {
   "cell_type": "code",
   "execution_count": null,
   "id": "8d07d387-6a18-42bd-8dc1-0cd5be7e9442",
   "metadata": {},
   "outputs": [],
   "source": [
    "data = gensim_models.prepare(lda, corpus, dic, mds='mmds')\n",
    "pyLDAvis.display(data)"
   ]
  },
  {
   "cell_type": "code",
   "execution_count": null,
   "id": "a23bbc33-6e64-4673-91b4-372a05c23313",
   "metadata": {},
   "outputs": [],
   "source": [
    "pyLDAvis.save_html(data, 'result1.html')"
   ]
  }
 ],
 "metadata": {
  "kernelspec": {
   "display_name": "Python 3 (ipykernel)",
   "language": "python",
   "name": "python3"
  },
  "language_info": {
   "codemirror_mode": {
    "name": "ipython",
    "version": 3
   },
   "file_extension": ".py",
   "mimetype": "text/x-python",
   "name": "python",
   "nbconvert_exporter": "python",
   "pygments_lexer": "ipython3",
   "version": "3.7.6"
  }
 },
 "nbformat": 4,
 "nbformat_minor": 5
}
